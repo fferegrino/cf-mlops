{
 "cells": [
  {
   "cell_type": "code",
   "execution_count": null,
   "id": "fd93793f-ada8-4251-bfdf-3766741fe12d",
   "metadata": {},
   "outputs": [],
   "source": [
    "import requests\n",
    "import pandas as pd\n",
    "import numpy as np"
   ]
  },
  {
   "cell_type": "code",
   "execution_count": null,
   "id": "e76f07fa-1e16-4642-a1a1-9a464969697c",
   "metadata": {},
   "outputs": [],
   "source": [
    "test_data = pd.read_csv('data/test_data.csv')\n",
    "test_data"
   ]
  },
  {
   "cell_type": "code",
   "execution_count": null,
   "id": "0d3cdf9a-8a56-4696-b3d4-685983f6e1c3",
   "metadata": {},
   "outputs": [],
   "source": [
    "json_data = test_data.to_json(orient='records')\n",
    "json_data"
   ]
  },
  {
   "cell_type": "code",
   "execution_count": null,
   "id": "c2035f9a-7d6f-4b1d-8943-7b39012104b4",
   "metadata": {},
   "outputs": [],
   "source": [
    "response = requests.post(\n",
    "    'http://0.0.0.0:3000/predict', \n",
    "    data=json_data\n",
    ")\n",
    "\n",
    "predictions = response.json()"
   ]
  },
  {
   "cell_type": "code",
   "execution_count": null,
   "id": "50511547-cd17-42c0-b419-3b3e22e75d18",
   "metadata": {},
   "outputs": [],
   "source": [
    "test_data['prediction'] = np.array(predictions)\n",
    "test_data[['reservation_id', 'prediction']]"
   ]
  },
  {
   "cell_type": "code",
   "execution_count": null,
   "id": "f6e2bd2c-8573-4b6c-988b-efb1372e8994",
   "metadata": {},
   "outputs": [],
   "source": []
  }
 ],
 "metadata": {
  "kernelspec": {
   "display_name": "Python 3 (ipykernel)",
   "language": "python",
   "name": "python3"
  },
  "language_info": {
   "codemirror_mode": {
    "name": "ipython",
    "version": 3
   },
   "file_extension": ".py",
   "mimetype": "text/x-python",
   "name": "python",
   "nbconvert_exporter": "python",
   "pygments_lexer": "ipython3",
   "version": "3.10.12"
  }
 },
 "nbformat": 4,
 "nbformat_minor": 5
}
